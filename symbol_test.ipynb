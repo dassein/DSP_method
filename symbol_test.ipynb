{
 "cells": [
  {
   "cell_type": "code",
   "execution_count": 2,
   "metadata": {},
   "outputs": [
    {
     "output_type": "execute_result",
     "data": {
      "text/plain": "-0.25*cos(Omega_1*(n_1 - n_2))**2 - 0.5*cos(Omega_1*(n_1 - n_2))*cos(Omega_2*(n_1 - n_2)) - 0.25*cos(Omega_2*(n_1 - n_2))**2 + 1.0",
      "text/latex": "$\\displaystyle - 0.25 \\cos^{2}{\\left(\\Omega_{1} \\left(n_{1} - n_{2}\\right) \\right)} - 0.5 \\cos{\\left(\\Omega_{1} \\left(n_{1} - n_{2}\\right) \\right)} \\cos{\\left(\\Omega_{2} \\left(n_{1} - n_{2}\\right) \\right)} - 0.25 \\cos^{2}{\\left(\\Omega_{2} \\left(n_{1} - n_{2}\\right) \\right)} + 1.0$"
     },
     "metadata": {},
     "execution_count": 2
    }
   ],
   "source": [
    "import sympy as sym\n",
    "from sympy import cos, sin\n",
    "n1, n2, n3, omega1, omega2 = sym.symbols('n_1, n_2, n_3, Omega_1, Omega_2')\n",
    "R = sym.Matrix([[1, 0.5*cos((n1-n2)*omega1) + 0.5*cos((n1-n2)*omega2)], \n",
    "                [0.5*cos((n1-n2)*omega1) + 0.5*cos((n1-n2)*omega2), 1]])\n",
    "P = sym.Matrix([[0.5*cos(n1*omega1) + 0.5*cos(n1*omega2)],\n",
    "                [0.5*cos(n2*omega1) + 0.5*cos(n2*omega2)]])\n",
    "sig_sq = 1\n",
    "det = R.det()\n",
    "sym.trigsimp(sym.cancel(det))"
   ]
  },
  {
   "cell_type": "code",
   "execution_count": 3,
   "metadata": {},
   "outputs": [
    {
     "output_type": "execute_result",
     "data": {
      "text/plain": "{-cos(Omega_1*(n_1 - n_2))/2 - cos(Omega_2*(n_1 - n_2))/2 + 1: 1, cos(Omega_1*(n_1 - n_2))/2 + cos(Omega_2*(n_1 - n_2))/2 + 1: 1}",
      "text/latex": "$\\displaystyle \\left\\{ - \\frac{\\cos{\\left(\\Omega_{1} \\left(n_{1} - n_{2}\\right) \\right)}}{2} - \\frac{\\cos{\\left(\\Omega_{2} \\left(n_{1} - n_{2}\\right) \\right)}}{2} + 1 : 1, \\  \\frac{\\cos{\\left(\\Omega_{1} \\left(n_{1} - n_{2}\\right) \\right)}}{2} + \\frac{\\cos{\\left(\\Omega_{2} \\left(n_{1} - n_{2}\\right) \\right)}}{2} + 1 : 1\\right\\}$"
     },
     "metadata": {},
     "execution_count": 3
    }
   ],
   "source": [
    "eigen = R.eigenvals()\n",
    "sym.trigsimp(sym.cancel(eigen))"
   ]
  },
  {
   "cell_type": "code",
   "execution_count": 4,
   "metadata": {},
   "outputs": [
    {
     "output_type": "execute_result",
     "data": {
      "text/plain": "Matrix([\n[1.0*(-0.375*cos(Omega_1*n_1) - 0.375*cos(Omega_2*n_1) + 0.125*cos(Omega_1*n_1 - 2*Omega_1*n_2) + 0.125*cos(Omega_2*n_1 - 2*Omega_2*n_2) + 0.125*cos(-Omega_1*n_1 + Omega_1*n_2 + Omega_2*n_2) + 0.125*cos(Omega_1*n_1 - Omega_1*n_2 + Omega_2*n_2) + 0.125*cos(Omega_1*n_2 - Omega_2*n_1 + Omega_2*n_2) + 0.125*cos(Omega_1*n_2 + Omega_2*n_1 - Omega_2*n_2))/(0.125*cos(2*Omega_1*n_1 - 2*Omega_1*n_2) + 0.125*cos(2*Omega_2*n_1 - 2*Omega_2*n_2) + 0.25*cos(Omega_1*n_1 - Omega_1*n_2 - Omega_2*n_1 + Omega_2*n_2) + 0.25*cos(Omega_1*n_1 - Omega_1*n_2 + Omega_2*n_1 - Omega_2*n_2) - 0.75)],\n[1.0*(-0.375*cos(Omega_1*n_2) - 0.375*cos(Omega_2*n_2) + 0.125*cos(2*Omega_1*n_1 - Omega_1*n_2) + 0.125*cos(2*Omega_2*n_1 - Omega_2*n_2) + 0.125*cos(-Omega_1*n_1 + Omega_1*n_2 + Omega_2*n_1) + 0.125*cos(Omega_1*n_1 - Omega_1*n_2 + Omega_2*n_1) + 0.125*cos(Omega_1*n_1 - Omega_2*n_1 + Omega_2*n_2) + 0.125*cos(Omega_1*n_1 + Omega_2*n_1 - Omega_2*n_2))/(0.125*cos(2*Omega_1*n_1 - 2*Omega_1*n_2) + 0.125*cos(2*Omega_2*n_1 - 2*Omega_2*n_2) + 0.25*cos(Omega_1*n_1 - Omega_1*n_2 - Omega_2*n_1 + Omega_2*n_2) + 0.25*cos(Omega_1*n_1 - Omega_1*n_2 + Omega_2*n_1 - Omega_2*n_2) - 0.75)]])",
      "text/latex": "$\\displaystyle \\left[\\begin{matrix}\\frac{1.0 \\left(- 0.375 \\cos{\\left(\\Omega_{1} n_{1} \\right)} - 0.375 \\cos{\\left(\\Omega_{2} n_{1} \\right)} + 0.125 \\cos{\\left(\\Omega_{1} n_{1} - 2 \\Omega_{1} n_{2} \\right)} + 0.125 \\cos{\\left(\\Omega_{2} n_{1} - 2 \\Omega_{2} n_{2} \\right)} + 0.125 \\cos{\\left(- \\Omega_{1} n_{1} + \\Omega_{1} n_{2} + \\Omega_{2} n_{2} \\right)} + 0.125 \\cos{\\left(\\Omega_{1} n_{1} - \\Omega_{1} n_{2} + \\Omega_{2} n_{2} \\right)} + 0.125 \\cos{\\left(\\Omega_{1} n_{2} - \\Omega_{2} n_{1} + \\Omega_{2} n_{2} \\right)} + 0.125 \\cos{\\left(\\Omega_{1} n_{2} + \\Omega_{2} n_{1} - \\Omega_{2} n_{2} \\right)}\\right)}{0.125 \\cos{\\left(2 \\Omega_{1} n_{1} - 2 \\Omega_{1} n_{2} \\right)} + 0.125 \\cos{\\left(2 \\Omega_{2} n_{1} - 2 \\Omega_{2} n_{2} \\right)} + 0.25 \\cos{\\left(\\Omega_{1} n_{1} - \\Omega_{1} n_{2} - \\Omega_{2} n_{1} + \\Omega_{2} n_{2} \\right)} + 0.25 \\cos{\\left(\\Omega_{1} n_{1} - \\Omega_{1} n_{2} + \\Omega_{2} n_{1} - \\Omega_{2} n_{2} \\right)} - 0.75}\\\\\\frac{1.0 \\left(- 0.375 \\cos{\\left(\\Omega_{1} n_{2} \\right)} - 0.375 \\cos{\\left(\\Omega_{2} n_{2} \\right)} + 0.125 \\cos{\\left(2 \\Omega_{1} n_{1} - \\Omega_{1} n_{2} \\right)} + 0.125 \\cos{\\left(2 \\Omega_{2} n_{1} - \\Omega_{2} n_{2} \\right)} + 0.125 \\cos{\\left(- \\Omega_{1} n_{1} + \\Omega_{1} n_{2} + \\Omega_{2} n_{1} \\right)} + 0.125 \\cos{\\left(\\Omega_{1} n_{1} - \\Omega_{1} n_{2} + \\Omega_{2} n_{1} \\right)} + 0.125 \\cos{\\left(\\Omega_{1} n_{1} - \\Omega_{2} n_{1} + \\Omega_{2} n_{2} \\right)} + 0.125 \\cos{\\left(\\Omega_{1} n_{1} + \\Omega_{2} n_{1} - \\Omega_{2} n_{2} \\right)}\\right)}{0.125 \\cos{\\left(2 \\Omega_{1} n_{1} - 2 \\Omega_{1} n_{2} \\right)} + 0.125 \\cos{\\left(2 \\Omega_{2} n_{1} - 2 \\Omega_{2} n_{2} \\right)} + 0.25 \\cos{\\left(\\Omega_{1} n_{1} - \\Omega_{1} n_{2} - \\Omega_{2} n_{1} + \\Omega_{2} n_{2} \\right)} + 0.25 \\cos{\\left(\\Omega_{1} n_{1} - \\Omega_{1} n_{2} + \\Omega_{2} n_{1} - \\Omega_{2} n_{2} \\right)} - 0.75}\\end{matrix}\\right]$"
     },
     "metadata": {},
     "execution_count": 4
    }
   ],
   "source": [
    "w = R.inv()* P\n",
    "w = sym.trigsimp(sym.cancel(w))\n",
    "sym.cancel(w)"
   ]
  },
  {
   "cell_type": "code",
   "execution_count": 5,
   "metadata": {},
   "outputs": [
    {
     "output_type": "stream",
     "name": "stdout",
     "text": "\\left[\\begin{matrix}\\frac{1.0 \\left(- 0.375 \\cos{\\left(\\Omega_{1} n_{1} \\right)} + 0.125 \\cos{\\left(\\Omega_{1} \\left(n_{1} - 2 n_{2}\\right) \\right)} - 0.375 \\cos{\\left(\\Omega_{2} n_{1} \\right)} + 0.125 \\cos{\\left(\\Omega_{2} \\left(n_{1} - 2 n_{2}\\right) \\right)} + 0.125 \\cos{\\left(- \\Omega_{1} n_{1} + \\Omega_{1} n_{2} + \\Omega_{2} n_{2} \\right)} + 0.125 \\cos{\\left(\\Omega_{1} n_{1} - \\Omega_{1} n_{2} + \\Omega_{2} n_{2} \\right)} + 0.125 \\cos{\\left(\\Omega_{1} n_{2} - \\Omega_{2} n_{1} + \\Omega_{2} n_{2} \\right)} + 0.125 \\cos{\\left(\\Omega_{1} n_{2} + \\Omega_{2} n_{1} - \\Omega_{2} n_{2} \\right)}\\right)}{0.125 \\cos{\\left(2 \\Omega_{1} \\left(n_{1} - n_{2}\\right) \\right)} + 0.125 \\cos{\\left(2 \\Omega_{2} \\left(n_{1} - n_{2}\\right) \\right)} + 0.25 \\cos{\\left(\\Omega_{1} n_{1} - \\Omega_{1} n_{2} - \\Omega_{2} n_{1} + \\Omega_{2} n_{2} \\right)} + 0.25 \\cos{\\left(\\Omega_{1} n_{1} - \\Omega_{1} n_{2} + \\Omega_{2} n_{1} - \\Omega_{2} n_{2} \\right)} - 0.75}\\\\\\frac{1.0 \\left(- 0.375 \\cos{\\left(\\Omega_{1} n_{2} \\right)} + 0.125 \\cos{\\left(\\Omega_{1} \\left(2 n_{1} - n_{2}\\right) \\right)} - 0.375 \\cos{\\left(\\Omega_{2} n_{2} \\right)} + 0.125 \\cos{\\left(\\Omega_{2} \\left(2 n_{1} - n_{2}\\right) \\right)} + 0.125 \\cos{\\left(- \\Omega_{1} n_{1} + \\Omega_{1} n_{2} + \\Omega_{2} n_{1} \\right)} + 0.125 \\cos{\\left(\\Omega_{1} n_{1} - \\Omega_{1} n_{2} + \\Omega_{2} n_{1} \\right)} + 0.125 \\cos{\\left(\\Omega_{1} n_{1} - \\Omega_{2} n_{1} + \\Omega_{2} n_{2} \\right)} + 0.125 \\cos{\\left(\\Omega_{1} n_{1} + \\Omega_{2} n_{1} - \\Omega_{2} n_{2} \\right)}\\right)}{0.125 \\cos{\\left(2 \\Omega_{1} \\left(n_{1} - n_{2}\\right) \\right)} + 0.125 \\cos{\\left(2 \\Omega_{2} \\left(n_{1} - n_{2}\\right) \\right)} + 0.25 \\cos{\\left(\\Omega_{1} n_{1} - \\Omega_{1} n_{2} - \\Omega_{2} n_{1} + \\Omega_{2} n_{2} \\right)} + 0.25 \\cos{\\left(\\Omega_{1} n_{1} - \\Omega_{1} n_{2} + \\Omega_{2} n_{1} - \\Omega_{2} n_{2} \\right)} - 0.75}\\end{matrix}\\right]\n"
    }
   ],
   "source": [
    "print(sym.latex(w))"
   ]
  },
  {
   "cell_type": "code",
   "execution_count": 31,
   "metadata": {},
   "outputs": [
    {
     "output_type": "stream",
     "name": "stdout",
     "text": "\\left[\\begin{matrix}\\frac{\\cos{\\left(\\Omega \\left(n_{1} - n_{3}\\right) \\right)} - \\cos{\\left(\\Omega \\left(n_{1} - 2 n_{2} + n_{3}\\right) \\right)}}{2 \\sin^{2}{\\left(\\Omega \\left(n_{1} - n_{2}\\right) \\right)}}\\end{matrix}\\right]\n"
    }
   ],
   "source": [
    "J_min = -P.transpose * w + sig_sq\n",
    "J"
   ]
  },
  {
   "cell_type": "code",
   "execution_count": null,
   "metadata": {},
   "outputs": [],
   "source": []
  }
 ],
 "metadata": {
  "language_info": {
   "codemirror_mode": {
    "name": "ipython",
    "version": 3
   },
   "file_extension": ".py",
   "mimetype": "text/x-python",
   "name": "python",
   "nbconvert_exporter": "python",
   "pygments_lexer": "ipython3",
   "version": "3.7.4-final"
  },
  "orig_nbformat": 2,
  "kernelspec": {
   "name": "python37464bitee35956207f943a0b5055ec56a022fca",
   "display_name": "Python 3.7.4 64-bit"
  }
 },
 "nbformat": 4,
 "nbformat_minor": 2
}